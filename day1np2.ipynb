{
 "cells": [
  {
   "cell_type": "code",
   "execution_count": 36,
   "metadata": {
    "scrolled": true
   },
   "outputs": [
    {
     "name": "stdout",
     "output_type": "stream",
     "text": [
      "[[ 8  9 10]\n",
      " [12 13 14]\n",
      " [16 17 18]]\n",
      "[[ 5  7  9]\n",
      " [ 8 10 12]\n",
      " [11 13 15]]\n",
      "[[ 4 10 18]\n",
      " [16 25 36]\n",
      " [28 40 54]]\n",
      "[[13 25 37]\n",
      " [49 61 73]\n",
      " [85 97 99]]\n",
      "[[ 12  46 102]\n",
      " [180 280 402]\n",
      " [546 712 810]]\n",
      "[ 1  2  3  4  5  6  7  8  9 10 11 12]\n",
      "[[1 2 3]\n",
      " [4 5 6]\n",
      " [7 8 9]]\n",
      "[[ 1  2  3]\n",
      " [ 4  5  6]\n",
      " [ 7  8  9]\n",
      " [10 11 12]]\n",
      "[[1 2 3]\n",
      " [4 5 6]\n",
      " [7 8 9]]\n",
      "[[1 2 3 4 5 6 7 8 9]]\n",
      "[[1 0 0]\n",
      " [0 0 0]\n",
      " [0 0 0]]\n",
      "[[ 3.15251974e+15 -1.26100790e+16  9.45755922e+15]\n",
      " [-2.52201579e+16  6.30503948e+16 -3.78302369e+16]\n",
      " [ 2.20676382e+16 -5.04403158e+16  2.83726777e+16]]\n",
      "[[ 3.15251974e+15 -6.30503948e+15  3.15251974e+15]\n",
      " [-6.30503948e+15  1.26100790e+16 -6.30503948e+15]\n",
      " [ 3.15251974e+15 -6.30503948e+15  3.15251974e+15]]\n",
      "-9.51619735392994e-16\n"
     ]
    }
   ],
   "source": [
    "import numpy as np\n",
    "a=np.array([[1,2,3],[4,5,6],[7,8,9]])\n",
    "b=np.array([[12,23,34],[45,56,67],[78,89,90]])\n",
    "e=np.array([4,5,6])\n",
    "f=np.array([[7],[8],[9]])\n",
    "print(a+f)\n",
    "c=a+b\n",
    "d=a*b\n",
    "print (a+e)\n",
    "print(a*e)\n",
    "print (c)\n",
    "print (d)\n",
    "print (np.append(a,[10,11,12]))\n",
    "print (a)\n",
    "print (np.append(a,[[10,11,12]],axis=0))\n",
    "print (a)\n",
    "print (a.reshape(1,9))\n",
    "print (np.reciprocal(a))\n",
    "i =np.linalg.inv(a)\n",
    "print (a*i)\n",
    "print (np.linalg.inv(a))\n",
    "print (np.linalg.det(a))"
   ]
  },
  {
   "cell_type": "code",
   "execution_count": 37,
   "metadata": {},
   "outputs": [
    {
     "name": "stdout",
     "output_type": "stream",
     "text": [
      "[[ 0  5 10 15]\n",
      " [20 25 30 35]\n",
      " [40 45 50 55]]\n",
      "[[ 0 20 40]\n",
      " [ 5 25 45]\n",
      " [10 30 50]\n",
      " [15 35 55]]\n",
      "0\n",
      "5\n",
      "10\n",
      "15\n",
      "20\n",
      "25\n",
      "30\n",
      "35\n",
      "40\n",
      "45\n",
      "50\n",
      "55\n",
      "[[ 0 20 40]\n",
      " [ 5 25 45]\n",
      " [10 30 50]\n",
      " [15 35 55]]\n",
      "[[ 0  5]\n",
      " [10 15]\n",
      " [20 25]\n",
      " [30 35]\n",
      " [40 45]\n",
      " [50 55]]\n",
      "[[1.         0.9961947  0.98480775 0.96592583]\n",
      " [0.93969262 0.90630779 0.8660254  0.81915204]\n",
      " [0.76604444 0.70710678 0.64278761 0.57357644]]\n",
      "[[0.         0.08715574 0.17364818 0.25881905]\n",
      " [0.34202014 0.42261826 0.5        0.57357644]\n",
      " [0.64278761 0.70710678 0.76604444 0.81915204]]\n",
      "[[   0   25  100  225]\n",
      " [ 400  625  900 1225]\n",
      " [1600 2025 2500 3025]]\n"
     ]
    }
   ],
   "source": [
    "g=np.arange(0,60,5)\n",
    "g=g.reshape(3,4)\n",
    "print (g)\n",
    "print (g.T)\n",
    "for i in np.nditer(g):\n",
    "    print (i)\n",
    "print (g.transpose())\n",
    "print (g.reshape(6,2))\n",
    "print (np.cos((g*np.pi/180)))\n",
    "print (np.sin(g*np.pi/180))\n",
    "print (np.power(g,2))\n"
   ]
  },
  {
   "cell_type": "code",
   "execution_count": 30,
   "metadata": {},
   "outputs": [
    {
     "name": "stdout",
     "output_type": "stream",
     "text": [
      "[ 2.  3.  4.  5.  6. -6. -7.]\n",
      "[ 1.  2.  3.  4.  5. -7. -8.]\n"
     ]
    }
   ],
   "source": [
    "h= np.array([1.2,2.3,3.4,4.5,5.6,-6.7,-7.3])\n",
    "print (np.ceil(h))\n",
    "print (np.floor(h))"
   ]
  },
  {
   "cell_type": "code",
   "execution_count": null,
   "metadata": {},
   "outputs": [],
   "source": []
  }
 ],
 "metadata": {
  "kernelspec": {
   "display_name": "Python 3",
   "language": "python",
   "name": "python3"
  },
  "language_info": {
   "codemirror_mode": {
    "name": "ipython",
    "version": 3
   },
   "file_extension": ".py",
   "mimetype": "text/x-python",
   "name": "python",
   "nbconvert_exporter": "python",
   "pygments_lexer": "ipython3",
   "version": "3.6.5"
  }
 },
 "nbformat": 4,
 "nbformat_minor": 2
}
